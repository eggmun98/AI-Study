{
 "cells": [
  {
   "cell_type": "code",
   "execution_count": 6,
   "metadata": {},
   "outputs": [],
   "source": [
    "import torch\n",
    "import torchvision\n",
    "import torchvision.transforms as transforms"
   ]
  },
  {
   "cell_type": "code",
   "execution_count": 7,
   "metadata": {},
   "outputs": [],
   "source": [
    "transform = transforms.ToTensor()\n",
    "\n",
    "trainset = torchvision.datasets.MNIST(\n",
    "    root='./data',\n",
    "    train=True,\n",
    "    download=True,\n",
    "    transform=transform\n",
    ")"
   ]
  },
  {
   "cell_type": "code",
   "execution_count": 8,
   "metadata": {},
   "outputs": [
    {
     "name": "stdout",
     "output_type": "stream",
     "text": [
      "60000\n",
      "torch.Size([1, 28, 28]) 5\n"
     ]
    },
    {
     "data": {
      "text/plain": [
       "<matplotlib.image.AxesImage at 0x16c351fc0>"
      ]
     },
     "execution_count": 8,
     "metadata": {},
     "output_type": "execute_result"
    },
    {
     "data": {
      "image/png": "[encoded data removed]",
      "text/plain": [
       "<Figure size 640x480 with 1 Axes>"
      ]
     },
     "metadata": {},
     "output_type": "display_data"
    }
   ],
   "source": [
    "from matplotlib import pyplot as plt\n",
    "\n",
    "\n",
    "print(len(trainset))\n",
    "print(trainset[0][0].shape, trainset[0][1])\n",
    "plt.imshow(trainset[0][0][0], cmap='gray')"
   ]
  },
  {
   "cell_type": "code",
   "execution_count": 9,
   "metadata": {},
   "outputs": [],
   "source": [
    "batch_size = 64\n",
    "\n",
    "trainloader = torch.utils.data.DataLoader(\n",
    "    trainset,\n",
    "    batch_size=batch_size,\n",
    "    shuffle=True\n",
    ")"
   ]
  },
  {
   "cell_type": "code",
   "execution_count": 10,
   "metadata": {},
   "outputs": [
    {
     "name": "stdout",
     "output_type": "stream",
     "text": [
      "torch.Size([64, 1, 28, 28]) torch.Size([64])\n"
     ]
    }
   ],
   "source": [
    "dataiter = iter(trainloader)\n",
    "images, labels = next(dataiter)\n",
    "print(images.shape, labels.shape)"
   ]
  },
  {
   "cell_type": "code",
   "execution_count": 11,
   "metadata": {},
   "outputs": [],
   "source": [
    "from torch import nn\n",
    "\n",
    "\n",
    "class Model(nn.Module):\n",
    "  def __init__(self, input_dim, n_dim):\n",
    "    super().__init__()\n",
    "\n",
    "    self.layer1 = nn.Linear(input_dim, n_dim)\n",
    "    self.layer2 = nn.Linear(n_dim, n_dim)\n",
    "    self.layer3 = nn.Linear(n_dim, 1)\n",
    "\n",
    "    self.act = nn.ReLU()\n",
    "\n",
    "  def forward(self, x):\n",
    "    x = torch.flatten(x, start_dim=1)\n",
    "    x = self.act(self.layer1(x))\n",
    "    x = self.act(self.layer2(x))\n",
    "    x = self.act(self.layer3(x))\n",
    "\n",
    "    return x\n",
    "\n",
    "\n",
    "model = Model(28 * 28 * 1, 1024)"
   ]
  },
  {
   "cell_type": "code",
   "execution_count": 14,
   "metadata": {},
   "outputs": [],
   "source": [
    "from torch.optim import SGD\n",
    "\n",
    "lr = 0.001\n",
    "model = model.to('cpu')\n",
    "\n",
    "optimizer = SGD(model.parameters(), lr=lr)"
   ]
  },
  {
   "cell_type": "code",
   "execution_count": 16,
   "metadata": {},
   "outputs": [
    {
     "name": "stdout",
     "output_type": "stream",
     "text": [
      "Epoch   0 | Loss: 4646.996044874191\n",
      "Epoch   1 | Loss: 2547.276556491852\n",
      "Epoch   2 | Loss: 1836.7298486828804\n",
      "Epoch   3 | Loss: 1439.8137925863266\n",
      "Epoch   4 | Loss: 1205.7616469562054\n",
      "Epoch   5 | Loss: 1055.6762568056583\n",
      "Epoch   6 | Loss: 955.6152095794678\n",
      "Epoch   7 | Loss: 879.0628028512001\n",
      "Epoch   8 | Loss: 821.8719180524349\n",
      "Epoch   9 | Loss: 771.7237174808979\n",
      "Epoch  10 | Loss: 729.2049168646336\n",
      "Epoch  11 | Loss: 694.6148589253426\n",
      "Epoch  12 | Loss: 662.3749514520168\n",
      "Epoch  13 | Loss: 633.9831789582968\n",
      "Epoch  14 | Loss: 606.5917916595936\n",
      "Epoch  15 | Loss: 583.5622809976339\n",
      "Epoch  16 | Loss: 563.3025965988636\n",
      "Epoch  17 | Loss: 542.9276519864798\n",
      "Epoch  18 | Loss: 523.0020904690027\n",
      "Epoch  19 | Loss: 505.83128713071346\n",
      "Epoch  20 | Loss: 490.2562045156956\n",
      "Epoch  21 | Loss: 475.8799902498722\n",
      "Epoch  22 | Loss: 461.55247417092323\n",
      "Epoch  23 | Loss: 445.20932791382074\n",
      "Epoch  24 | Loss: 435.78239476680756\n",
      "Epoch  25 | Loss: 420.1281496435404\n",
      "Epoch  26 | Loss: 409.2833966612816\n",
      "Epoch  27 | Loss: 396.93637550622225\n",
      "Epoch  28 | Loss: 386.3859742805362\n",
      "Epoch  29 | Loss: 379.6737717464566\n",
      "Epoch  30 | Loss: 366.43798799812794\n",
      "Epoch  31 | Loss: 362.3078132867813\n",
      "Epoch  32 | Loss: 348.33205220103264\n",
      "Epoch  33 | Loss: 340.6556817665696\n",
      "Epoch  34 | Loss: 336.32146499305964\n",
      "Epoch  35 | Loss: 326.3561602756381\n",
      "Epoch  36 | Loss: 316.8074176311493\n",
      "Epoch  37 | Loss: 309.80001006275415\n",
      "Epoch  38 | Loss: 306.3194856643677\n",
      "Epoch  39 | Loss: 293.870150744915\n",
      "Epoch  40 | Loss: 287.14761205017567\n",
      "Epoch  41 | Loss: 289.64799769967794\n",
      "Epoch  42 | Loss: 284.7780212238431\n",
      "Epoch  43 | Loss: 270.2290465384722\n",
      "Epoch  44 | Loss: 267.3734163418412\n",
      "Epoch  45 | Loss: 263.97776109725237\n",
      "Epoch  46 | Loss: 249.77750358730555\n",
      "Epoch  47 | Loss: 252.05657444894314\n",
      "Epoch  48 | Loss: 247.4649934247136\n",
      "Epoch  49 | Loss: 242.29309906065464\n",
      "Epoch  50 | Loss: 236.3673378676176\n",
      "Epoch  51 | Loss: 236.16277875751257\n",
      "Epoch  52 | Loss: 230.4744729399681\n",
      "Epoch  53 | Loss: 227.93096262216568\n",
      "Epoch  54 | Loss: 230.292566947639\n",
      "Epoch  55 | Loss: 218.28379465267062\n",
      "Epoch  56 | Loss: 213.42497738450766\n",
      "Epoch  57 | Loss: 208.0026644319296\n",
      "Epoch  58 | Loss: 206.63948656618595\n",
      "Epoch  59 | Loss: 197.28986308723688\n",
      "Epoch  60 | Loss: 200.18641278520226\n",
      "Epoch  61 | Loss: 196.62299086898565\n",
      "Epoch  62 | Loss: 193.24658969789743\n",
      "Epoch  63 | Loss: 191.58731683716178\n",
      "Epoch  64 | Loss: 185.58098122105002\n",
      "Epoch  65 | Loss: 177.73688791692257\n",
      "Epoch  66 | Loss: 177.97166510671377\n",
      "Epoch  67 | Loss: 177.9229279384017\n",
      "Epoch  68 | Loss: 172.27595002949238\n",
      "Epoch  69 | Loss: 169.00898487493396\n",
      "Epoch  70 | Loss: 166.70579392835498\n",
      "Epoch  71 | Loss: 163.70690808817744\n",
      "Epoch  72 | Loss: 165.16915924474597\n",
      "Epoch  73 | Loss: 158.61383213475347\n",
      "Epoch  74 | Loss: 161.45399843528867\n",
      "Epoch  75 | Loss: 152.05538671463728\n",
      "Epoch  76 | Loss: 146.151938598603\n",
      "Epoch  77 | Loss: 147.4660398736596\n",
      "Epoch  78 | Loss: 145.2047554217279\n",
      "Epoch  79 | Loss: 145.8314457386732\n",
      "Epoch  80 | Loss: 142.17257496342063\n",
      "Epoch  81 | Loss: 138.4227545708418\n",
      "Epoch  82 | Loss: 140.62399211525917\n",
      "Epoch  83 | Loss: 131.56485359743237\n",
      "Epoch  84 | Loss: 130.0741747431457\n",
      "Epoch  85 | Loss: 131.78646931052208\n",
      "Epoch  86 | Loss: 132.74367763474584\n",
      "Epoch  87 | Loss: 125.66887665912509\n",
      "Epoch  88 | Loss: 128.76410775631666\n",
      "Epoch  89 | Loss: 124.43515908904374\n",
      "Epoch  90 | Loss: 122.62405183538795\n",
      "Epoch  91 | Loss: 117.95894597098231\n",
      "Epoch  92 | Loss: 118.97494389861822\n",
      "Epoch  93 | Loss: 122.15661785006523\n",
      "Epoch  94 | Loss: 115.57727133855224\n",
      "Epoch  95 | Loss: 109.73644937574863\n",
      "Epoch  96 | Loss: 116.95406042784452\n",
      "Epoch  97 | Loss: 115.36920895054936\n",
      "Epoch  98 | Loss: 109.44405933469534\n",
      "Epoch  99 | Loss: 108.31621069833636\n"
     ]
    }
   ],
   "source": [
    "n_epochs = 100\n",
    "\n",
    "for epoch in range(n_epochs):\n",
    "  total_loss = 0.\n",
    "  for data in trainloader:\n",
    "    model.zero_grad()\n",
    "    inputs, labels = data\n",
    "    inputs, labels = inputs.to('cpu'), labels.to('cpu')\n",
    "\n",
    "    preds = model(inputs)\n",
    "    loss = (preds[:, 0] - labels).pow(2).mean()\n",
    "    loss.backward()\n",
    "    optimizer.step()\n",
    "\n",
    "    total_loss += loss.item()\n",
    "\n",
    "  print(f\"Epoch {epoch:3d} | Loss: {total_loss}\")"
   ]
  },
  {
   "cell_type": "code",
   "execution_count": 18,
   "metadata": {},
   "outputs": [
    {
     "name": "stdout",
     "output_type": "stream",
     "text": [
      "tensor([[4.8005]], grad_fn=<ReluBackward0>)\n",
      "5\n"
     ]
    }
   ],
   "source": [
    "idx = 0\n",
    "\n",
    "x = trainset[idx][0][None]  # (1, 1, 28, 28)\n",
    "x = x.to('cpu')\n",
    "\n",
    "print(model(x))\n",
    "print(trainset[idx][1])"
   ]
  },
  {
   "cell_type": "code",
   "execution_count": 19,
   "metadata": {},
   "outputs": [],
   "source": [
    "device = torch.device(\"cuda\" if torch.cuda.is_available() else \"cpu\")"
   ]
  },
  {
   "cell_type": "code",
   "execution_count": 20,
   "metadata": {},
   "outputs": [],
   "source": [
    "\n",
    "testset = torchvision.datasets.MNIST(\n",
    "    root='./data',\n",
    "    train=False,\n",
    "    download=True,\n",
    "    transform=transforms.ToTensor()\n",
    ")\n",
    "\n",
    "batch_size = 256  \n",
    "testloader = torch.utils.data.DataLoader(\n",
    "    testset,\n",
    "    batch_size=batch_size,\n",
    "    shuffle=False \n",
    ")"
   ]
  },
  {
   "cell_type": "code",
   "execution_count": 21,
   "metadata": {},
   "outputs": [],
   "source": [
    "class Model(nn.Module):\n",
    "  def __init__(self, input_dim, n_dim):\n",
    "    super().__init__()\n",
    "\n",
    "    self.layer1 = nn.Linear(input_dim, n_dim)\n",
    "    self.layer2 = nn.Linear(n_dim, n_dim)\n",
    "    self.layer3 = nn.Linear(n_dim, 10)  \n",
    "\n",
    "    self.act = nn.ReLU()\n",
    "\n",
    "  def forward(self, x):\n",
    "    x = torch.flatten(x, start_dim=1)\n",
    "    x = self.act(self.layer1(x))\n",
    "    x = self.act(self.layer2(x))\n",
    "    x = self.layer3(x) \n",
    "\n",
    "    return x"
   ]
  },
  {
   "cell_type": "code",
   "execution_count": 22,
   "metadata": {},
   "outputs": [],
   "source": [
    "model = Model(28 * 28 * 1, 1024)\n",
    "device = torch.device(\"cuda\" if torch.cuda.is_available() else \"cpu\")\n",
    "model = model.to(device)"
   ]
  },
  {
   "cell_type": "code",
   "execution_count": 23,
   "metadata": {},
   "outputs": [],
   "source": [
    "from torch.optim import SGD\n",
    "from torch.nn import CrossEntropyLoss\n",
    "\n",
    "# 학습률 설정\n",
    "lr = 0.001\n",
    "# 옵티마이저 설정\n",
    "optimizer = SGD(model.parameters(), lr=lr)\n",
    "\n",
    "# 손실 함수 설정 (CrossEntropyLoss)\n",
    "criterion = CrossEntropyLoss()"
   ]
  },
  {
   "cell_type": "code",
   "execution_count": 24,
   "metadata": {},
   "outputs": [],
   "source": [
    "import numpy as np\n",
    "\n",
    "# 정확도 측정 함수\n",
    "def accuracy(model, dataloader):\n",
    "  cnt = 0\n",
    "  acc = 0\n",
    "\n",
    "  model.eval()  # 평가 모드로 설정\n",
    "  with torch.no_grad():  # 그래디언트 계산 비활성화\n",
    "    for data in dataloader:\n",
    "      inputs, labels = data\n",
    "      inputs, labels = inputs.to(device), labels.to(device)\n",
    "\n",
    "      preds = model(inputs)\n",
    "      preds = torch.argmax(preds, dim=-1)\n",
    "\n",
    "      cnt += labels.shape[0]\n",
    "      acc += (labels == preds).sum().item()\n",
    "\n",
    "  return acc / cnt\n",
    "\n",
    "# 정확도 시각화 함수\n",
    "def plot_acc(train_accs, test_accs, label1='train', label2='test'):\n",
    "  x = np.arange(len(train_accs))\n",
    "\n",
    "  plt.figure(figsize=(10, 6))\n",
    "  plt.plot(x, train_accs, label=label1)\n",
    "  plt.plot(x, test_accs, label=label2)\n",
    "  plt.xlabel('Epoch')\n",
    "  plt.ylabel('Accuracy')\n",
    "  plt.title('Training and Test Accuracy over Epochs')\n",
    "  plt.legend()\n",
    "  plt.grid(True)\n",
    "  plt.show()"
   ]
  },
  {
   "cell_type": "code",
   "execution_count": 25,
   "metadata": {},
   "outputs": [
    {
     "name": "stdout",
     "output_type": "stream",
     "text": [
      "Epoch   1/100 | Loss: 2127.4391 | Train Acc: 0.5423 | Test Acc: 0.5544\n",
      "Epoch   2/100 | Loss: 2051.9698 | Train Acc: 0.6602 | Test Acc: 0.6712\n",
      "Epoch   3/100 | Loss: 1929.4405 | Train Acc: 0.7023 | Test Acc: 0.7073\n",
      "Epoch   4/100 | Loss: 1721.5163 | Train Acc: 0.7321 | Test Acc: 0.7366\n",
      "Epoch   5/100 | Loss: 1426.4911 | Train Acc: 0.7600 | Test Acc: 0.7688\n",
      "Epoch   6/100 | Loss: 1126.6596 | Train Acc: 0.7911 | Test Acc: 0.7987\n",
      "Epoch   7/100 | Loss: 901.6705 | Train Acc: 0.8146 | Test Acc: 0.8193\n",
      "Epoch   8/100 | Loss: 753.2650 | Train Acc: 0.8322 | Test Acc: 0.8361\n",
      "Epoch   9/100 | Loss: 654.8284 | Train Acc: 0.8444 | Test Acc: 0.8505\n",
      "Epoch  10/100 | Loss: 586.2969 | Train Acc: 0.8538 | Test Acc: 0.8596\n",
      "Epoch  11/100 | Loss: 536.2395 | Train Acc: 0.8623 | Test Acc: 0.8680\n",
      "Epoch  12/100 | Loss: 498.4163 | Train Acc: 0.8679 | Test Acc: 0.8718\n",
      "Epoch  13/100 | Loss: 468.5648 | Train Acc: 0.8741 | Test Acc: 0.8796\n",
      "Epoch  14/100 | Loss: 444.6108 | Train Acc: 0.8783 | Test Acc: 0.8834\n",
      "Epoch  15/100 | Loss: 424.8692 | Train Acc: 0.8828 | Test Acc: 0.8870\n",
      "Epoch  16/100 | Loss: 408.6403 | Train Acc: 0.8858 | Test Acc: 0.8897\n",
      "Epoch  17/100 | Loss: 394.6925 | Train Acc: 0.8885 | Test Acc: 0.8925\n",
      "Epoch  18/100 | Loss: 382.9131 | Train Acc: 0.8902 | Test Acc: 0.8943\n",
      "Epoch  19/100 | Loss: 372.8307 | Train Acc: 0.8933 | Test Acc: 0.8972\n",
      "Epoch  20/100 | Loss: 363.7300 | Train Acc: 0.8952 | Test Acc: 0.8988\n",
      "Epoch  21/100 | Loss: 355.8366 | Train Acc: 0.8963 | Test Acc: 0.8998\n",
      "Epoch  22/100 | Loss: 348.6146 | Train Acc: 0.8979 | Test Acc: 0.9013\n",
      "Epoch  23/100 | Loss: 342.0192 | Train Acc: 0.8992 | Test Acc: 0.9031\n",
      "Epoch  24/100 | Loss: 336.2215 | Train Acc: 0.9002 | Test Acc: 0.9036\n",
      "Epoch  25/100 | Loss: 330.8967 | Train Acc: 0.9016 | Test Acc: 0.9051\n",
      "Epoch  26/100 | Loss: 325.9573 | Train Acc: 0.9027 | Test Acc: 0.9055\n",
      "Epoch  27/100 | Loss: 321.4685 | Train Acc: 0.9042 | Test Acc: 0.9066\n",
      "Epoch  28/100 | Loss: 316.9530 | Train Acc: 0.9053 | Test Acc: 0.9077\n",
      "Epoch  29/100 | Loss: 312.9148 | Train Acc: 0.9059 | Test Acc: 0.9079\n",
      "Epoch  30/100 | Loss: 309.0408 | Train Acc: 0.9075 | Test Acc: 0.9090\n",
      "Epoch  31/100 | Loss: 305.4022 | Train Acc: 0.9075 | Test Acc: 0.9100\n",
      "Epoch  32/100 | Loss: 302.0896 | Train Acc: 0.9086 | Test Acc: 0.9118\n",
      "Epoch  33/100 | Loss: 298.7997 | Train Acc: 0.9103 | Test Acc: 0.9129\n",
      "Epoch  34/100 | Loss: 295.6535 | Train Acc: 0.9106 | Test Acc: 0.9131\n",
      "Epoch  35/100 | Loss: 292.6866 | Train Acc: 0.9122 | Test Acc: 0.9142\n",
      "Epoch  36/100 | Loss: 289.8569 | Train Acc: 0.9131 | Test Acc: 0.9143\n",
      "Epoch  37/100 | Loss: 287.0098 | Train Acc: 0.9133 | Test Acc: 0.9158\n",
      "Epoch  38/100 | Loss: 284.4240 | Train Acc: 0.9144 | Test Acc: 0.9163\n",
      "Epoch  39/100 | Loss: 281.8446 | Train Acc: 0.9150 | Test Acc: 0.9169\n",
      "Epoch  40/100 | Loss: 279.1481 | Train Acc: 0.9158 | Test Acc: 0.9189\n",
      "Epoch  41/100 | Loss: 276.5878 | Train Acc: 0.9158 | Test Acc: 0.9179\n",
      "Epoch  42/100 | Loss: 274.3725 | Train Acc: 0.9172 | Test Acc: 0.9187\n",
      "Epoch  43/100 | Loss: 271.9974 | Train Acc: 0.9179 | Test Acc: 0.9194\n",
      "Epoch  44/100 | Loss: 269.8497 | Train Acc: 0.9186 | Test Acc: 0.9205\n",
      "Epoch  45/100 | Loss: 267.4581 | Train Acc: 0.9194 | Test Acc: 0.9212\n",
      "Epoch  46/100 | Loss: 265.3276 | Train Acc: 0.9195 | Test Acc: 0.9216\n",
      "Epoch  47/100 | Loss: 263.3080 | Train Acc: 0.9205 | Test Acc: 0.9224\n",
      "Epoch  48/100 | Loss: 261.2145 | Train Acc: 0.9211 | Test Acc: 0.9226\n",
      "Epoch  49/100 | Loss: 259.2664 | Train Acc: 0.9219 | Test Acc: 0.9224\n",
      "Epoch  50/100 | Loss: 256.9810 | Train Acc: 0.9224 | Test Acc: 0.9234\n",
      "Epoch  51/100 | Loss: 255.1678 | Train Acc: 0.9230 | Test Acc: 0.9240\n",
      "Epoch  52/100 | Loss: 253.2300 | Train Acc: 0.9236 | Test Acc: 0.9250\n",
      "Epoch  53/100 | Loss: 251.2884 | Train Acc: 0.9237 | Test Acc: 0.9254\n",
      "Epoch  54/100 | Loss: 249.4005 | Train Acc: 0.9243 | Test Acc: 0.9254\n",
      "Epoch  55/100 | Loss: 247.5739 | Train Acc: 0.9249 | Test Acc: 0.9260\n",
      "Epoch  56/100 | Loss: 245.7084 | Train Acc: 0.9257 | Test Acc: 0.9268\n",
      "Epoch  57/100 | Loss: 243.8981 | Train Acc: 0.9261 | Test Acc: 0.9271\n",
      "Epoch  58/100 | Loss: 242.2084 | Train Acc: 0.9265 | Test Acc: 0.9283\n",
      "Epoch  59/100 | Loss: 240.4211 | Train Acc: 0.9270 | Test Acc: 0.9278\n",
      "Epoch  60/100 | Loss: 238.7340 | Train Acc: 0.9281 | Test Acc: 0.9291\n",
      "Epoch  61/100 | Loss: 237.0679 | Train Acc: 0.9290 | Test Acc: 0.9299\n",
      "Epoch  62/100 | Loss: 235.2990 | Train Acc: 0.9290 | Test Acc: 0.9289\n",
      "Epoch  63/100 | Loss: 233.5919 | Train Acc: 0.9295 | Test Acc: 0.9306\n",
      "Epoch  64/100 | Loss: 232.0366 | Train Acc: 0.9303 | Test Acc: 0.9311\n",
      "Epoch  65/100 | Loss: 230.3310 | Train Acc: 0.9308 | Test Acc: 0.9318\n",
      "Epoch  66/100 | Loss: 228.6917 | Train Acc: 0.9314 | Test Acc: 0.9324\n",
      "Epoch  67/100 | Loss: 227.1389 | Train Acc: 0.9319 | Test Acc: 0.9322\n",
      "Epoch  68/100 | Loss: 225.5414 | Train Acc: 0.9328 | Test Acc: 0.9326\n",
      "Epoch  69/100 | Loss: 223.9754 | Train Acc: 0.9332 | Test Acc: 0.9333\n",
      "Epoch  70/100 | Loss: 222.4452 | Train Acc: 0.9335 | Test Acc: 0.9335\n",
      "Epoch  71/100 | Loss: 220.8646 | Train Acc: 0.9343 | Test Acc: 0.9342\n",
      "Epoch  72/100 | Loss: 219.4005 | Train Acc: 0.9342 | Test Acc: 0.9341\n",
      "Epoch  73/100 | Loss: 217.9199 | Train Acc: 0.9351 | Test Acc: 0.9342\n",
      "Epoch  74/100 | Loss: 216.4182 | Train Acc: 0.9354 | Test Acc: 0.9352\n",
      "Epoch  75/100 | Loss: 215.0700 | Train Acc: 0.9358 | Test Acc: 0.9359\n",
      "Epoch  76/100 | Loss: 213.4950 | Train Acc: 0.9362 | Test Acc: 0.9360\n",
      "Epoch  77/100 | Loss: 212.0793 | Train Acc: 0.9367 | Test Acc: 0.9368\n",
      "Epoch  78/100 | Loss: 210.5382 | Train Acc: 0.9365 | Test Acc: 0.9367\n",
      "Epoch  79/100 | Loss: 209.1757 | Train Acc: 0.9375 | Test Acc: 0.9372\n",
      "Epoch  80/100 | Loss: 207.6999 | Train Acc: 0.9382 | Test Acc: 0.9379\n",
      "Epoch  81/100 | Loss: 206.4039 | Train Acc: 0.9384 | Test Acc: 0.9379\n",
      "Epoch  82/100 | Loss: 205.0483 | Train Acc: 0.9390 | Test Acc: 0.9382\n",
      "Epoch  83/100 | Loss: 203.6571 | Train Acc: 0.9390 | Test Acc: 0.9390\n",
      "Epoch  84/100 | Loss: 202.3529 | Train Acc: 0.9392 | Test Acc: 0.9386\n",
      "Epoch  85/100 | Loss: 200.9908 | Train Acc: 0.9398 | Test Acc: 0.9398\n",
      "Epoch  86/100 | Loss: 199.7324 | Train Acc: 0.9403 | Test Acc: 0.9397\n",
      "Epoch  87/100 | Loss: 198.4510 | Train Acc: 0.9409 | Test Acc: 0.9401\n",
      "Epoch  88/100 | Loss: 197.0625 | Train Acc: 0.9413 | Test Acc: 0.9403\n",
      "Epoch  89/100 | Loss: 195.8805 | Train Acc: 0.9418 | Test Acc: 0.9403\n",
      "Epoch  90/100 | Loss: 194.5162 | Train Acc: 0.9420 | Test Acc: 0.9409\n",
      "Epoch  91/100 | Loss: 193.2652 | Train Acc: 0.9421 | Test Acc: 0.9421\n",
      "Epoch  92/100 | Loss: 192.1147 | Train Acc: 0.9430 | Test Acc: 0.9412\n",
      "Epoch  93/100 | Loss: 190.7820 | Train Acc: 0.9433 | Test Acc: 0.9419\n",
      "Epoch  94/100 | Loss: 189.5814 | Train Acc: 0.9438 | Test Acc: 0.9414\n",
      "Epoch  95/100 | Loss: 188.3347 | Train Acc: 0.9440 | Test Acc: 0.9417\n",
      "Epoch  96/100 | Loss: 187.1303 | Train Acc: 0.9446 | Test Acc: 0.9427\n",
      "Epoch  97/100 | Loss: 185.9210 | Train Acc: 0.9450 | Test Acc: 0.9424\n",
      "Epoch  98/100 | Loss: 184.8019 | Train Acc: 0.9448 | Test Acc: 0.9430\n",
      "Epoch  99/100 | Loss: 183.5562 | Train Acc: 0.9452 | Test Acc: 0.9431\n",
      "Epoch 100/100 | Loss: 182.6102 | Train Acc: 0.9460 | Test Acc: 0.9427\n",
      "학습 완료!\n"
     ]
    }
   ],
   "source": [
    "# 학습 파라미터 설정\n",
    "n_epochs = 100\n",
    "batch_size = 256\n",
    "\n",
    "# 학습 결과 저장용 리스트\n",
    "train_accs = []\n",
    "test_accs = []\n",
    "\n",
    "# 학습 시작\n",
    "for epoch in range(n_epochs):\n",
    "  # 학습 모드\n",
    "  model.train()\n",
    "  total_loss = 0.0\n",
    "  \n",
    "  for data in trainloader:\n",
    "    # 그래디언트 초기화\n",
    "    optimizer.zero_grad()\n",
    "    \n",
    "    # 데이터 준비\n",
    "    inputs, labels = data\n",
    "    inputs, labels = inputs.to(device), labels.to(device)\n",
    "\n",
    "    # 순전파\n",
    "    outputs = model(inputs)\n",
    "    \n",
    "    # 손실 계산\n",
    "    loss = criterion(outputs, labels)\n",
    "    \n",
    "    # 역전파 및 가중치 업데이트\n",
    "    loss.backward()\n",
    "    optimizer.step()\n",
    "\n",
    "    total_loss += loss.item()\n",
    "\n",
    "  # 매 에폭마다 정확도 측정\n",
    "  train_acc = accuracy(model, trainloader)\n",
    "  test_acc = accuracy(model, testloader)\n",
    "  \n",
    "  # 정확도 저장\n",
    "  train_accs.append(train_acc)\n",
    "  test_accs.append(test_acc)\n",
    "  \n",
    "  # 진행 상황 출력\n",
    "  print(f\"Epoch {epoch+1:3d}/{n_epochs} | Loss: {total_loss:.4f} | Train Acc: {train_acc:.4f} | Test Acc: {test_acc:.4f}\")\n",
    "\n",
    "# 학습 완료 메시지\n",
    "print(\"학습 완료!\")"
   ]
  },
  {
   "cell_type": "code",
   "execution_count": 26,
   "metadata": {},
   "outputs": [
    {
     "data": {
      "image/png": "[encoded data removed]",
      "text/plain": [
       "<Figure size 1000x600 with 1 Axes>"
      ]
     },
     "metadata": {},
     "output_type": "display_data"
    }
   ],
   "source": [
    "# 정확도 시각화\n",
    "plot_acc(train_accs, test_accs)"
   ]
  },
  {
   "cell_type": "code",
   "execution_count": null,
   "metadata": {},
   "outputs": [],
   "source": []
  }
 ],
 "metadata": {
  "kernelspec": {
   "display_name": "pytorch_env",
   "language": "python",
   "name": "python3"
  },
  "language_info": {
   "codemirror_mode": {
    "name": "ipython",
    "version": 3
   },
   "file_extension": ".py",
   "mimetype": "text/x-python",
   "name": "python",
   "nbconvert_exporter": "python",
   "pygments_lexer": "ipython3",
   "version": "3.10.16"
  }
 },
 "nbformat": 4,
 "nbformat_minor": 2
}
